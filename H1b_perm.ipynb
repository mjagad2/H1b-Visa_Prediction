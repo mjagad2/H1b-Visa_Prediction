{
 "cells": [
  {
   "cell_type": "markdown",
   "metadata": {},
   "source": [
    "# COMPARISION OF EDUCATION LEVELS WITH RESPECT TO EDUCATION"
   ]
  },
  {
   "cell_type": "markdown",
   "metadata": {},
   "source": [
    "A certain level of degree is required in every field to have more number of jobs in the U.S. market. In some fields employers expect Master's degree or Bachelor's degree or other degrees. We plot the visualization considering employee's education level and the fields they are opting. So,it gives a good insight what level of education is required in major fields. "
   ]
  },
  {
   "cell_type": "code",
   "execution_count": 0,
   "metadata": {
    "colab": {},
    "colab_type": "code",
    "id": "ZXqB4GMgYQFo"
   },
   "outputs": [],
   "source": [
    "from google.colab import drive\n",
    "drive.mount('/content/gdrive')"
   ]
  },
  {
   "cell_type": "code",
   "execution_count": 0,
   "metadata": {
    "colab": {},
    "colab_type": "code",
    "id": "ovtUsKS1le3e"
   },
   "outputs": [],
   "source": [
    "!pip install autocorrect\n",
    "import numpy as np\n",
    "import pandas as pd\n",
    "import os\n",
    "import seaborn as sns\n",
    "%matplotlib inline\n",
    "import clean_wage as cw\n",
    "import matplotlib.pyplot as plt\n",
    "import nltk,warnings\n",
    "from autocorrect import Speller\n",
    "import gensim.downloader as api\n",
    "from sklearn.cluster import KMeans\n",
    "nltk.download('wordnet')\n",
    "nltk.download('words')"
   ]
  },
  {
   "cell_type": "code",
   "execution_count": 0,
   "metadata": {
    "colab": {},
    "colab_type": "code",
    "id": "rAgb8e_gle3h"
   },
   "outputs": [],
   "source": [
    "df_1 = pd.read_csv(\"/content/gdrive/My Drive/H1b_perm/PERM_Disclosure_Data_FY17.csv\")\n",
    "f_1 = df_1[['FOREIGN_WORKER_INFO_MAJOR','FOREIGN_WORKER_INFO_EDUCATION']]\n",
    "f_1.isna().sum()\n",
    "f_1.dropna(inplace = True)"
   ]
  },
  {
   "cell_type": "code",
   "execution_count": 0,
   "metadata": {
    "colab": {},
    "colab_type": "code",
    "id": "l_zIR3rzle3j"
   },
   "outputs": [],
   "source": [
    "df_2 = pd.read_csv('/content/gdrive/My Drive/H1b_perm/PERM_Disclosure_Data_FY15_Q4.csv')\n",
    "f_2 = df_2[['FOREIGN_WORKER_INFO_MAJOR','FOREIGN_WORKER_INFO_EDUCATION']]\n",
    "f_2.isna().sum()\n",
    "f_2.dropna(inplace = True)"
   ]
  },
  {
   "cell_type": "code",
   "execution_count": 0,
   "metadata": {
    "colab": {},
    "colab_type": "code",
    "id": "TIk1mAeV50QT"
   },
   "outputs": [],
   "source": [
    "df_3 = pd.read_csv('/content/gdrive/My Drive/H1b_perm/PERM_Disclosure_Data_FY16.csv')\n",
    "f_3 = df_3[['FOREIGN_WORKER_INFO_MAJOR','FOREIGN_WORKER_INFO_EDUCATION']]\n",
    "f_3.isna().sum()\n",
    "f_3.dropna(inplace = True)"
   ]
  },
  {
   "cell_type": "code",
   "execution_count": 0,
   "metadata": {
    "colab": {},
    "colab_type": "code",
    "id": "0kVuqrDiXzQ1"
   },
   "outputs": [],
   "source": [
    "df_4 = pd.read_csv('/content/gdrive/My Drive/H1b_perm/PERM_Disclosure_Data_FY2018_EOY.csv')\n",
    "f_4 = df_4[['FOREIGN_WORKER_INFO_MAJOR','FOREIGN_WORKER_INFO_EDUCATION']]\n",
    "f_4.isna().sum()\n",
    "f_4.dropna(inplace = True)"
   ]
  },
  {
   "cell_type": "code",
   "execution_count": 0,
   "metadata": {
    "colab": {},
    "colab_type": "code",
    "id": "p94vJm_xle3l"
   },
   "outputs": [],
   "source": [
    "perm=pd.concat([f_1,f_2,f_3,f_4])\n",
    "perm.shape"
   ]
  },
  {
   "cell_type": "code",
   "execution_count": 0,
   "metadata": {
    "colab": {},
    "colab_type": "code",
    "id": "r30-x7K3jzf7"
   },
   "outputs": [],
   "source": [
    "perm.drop(labels=perm.loc[perm['FOREIGN_WORKER_INFO_EDUCATION']=='None'].index, inplace = True)\n",
    "perm.drop(labels=perm.loc[perm['FOREIGN_WORKER_INFO_EDUCATION']=='High School'].index, inplace = True)"
   ]
  },
  {
   "cell_type": "code",
   "execution_count": 0,
   "metadata": {
    "colab": {},
    "colab_type": "code",
    "id": "TM-jfT2vle3q"
   },
   "outputs": [],
   "source": [
    "perm['FOREIGN_WORKER_INFO_EDUCATION'].value_counts()\n",
    "ax = sns.countplot(x = \"FOREIGN_WORKER_INFO_EDUCATION\", data = perm)"
   ]
  },
  {
   "cell_type": "code",
   "execution_count": 0,
   "metadata": {
    "colab": {},
    "colab_type": "code",
    "id": "H73s7HhTlPJi"
   },
   "outputs": [],
   "source": [
    "lemmatizer = nltk.stem.WordNetLemmatizer()\n",
    "words = set(nltk.corpus.words.words())\n",
    "spell = Speller()\n",
    "def lemmatize_text(text):\n",
    "     return lemmatizer.lemmatize(text)\n",
    "def spelling_checker(text):\n",
    "     return spell(text)"
   ]
  },
  {
   "cell_type": "code",
   "execution_count": 0,
   "metadata": {
    "colab": {},
    "colab_type": "code",
    "id": "ODGWNB2-mSf7"
   },
   "outputs": [],
   "source": [
    "perm['FOREIGN_WORKER_INFO_MAJOR']=perm.FOREIGN_WORKER_INFO_MAJOR.apply(lambda txt: \" \".join([lemmatize_text(i) for i in txt.lower().split()]))\n",
    "perm['FOREIGN_WORKER_INFO_MAJOR']=perm.FOREIGN_WORKER_INFO_MAJOR.apply(lambda txt: \" \".join([spelling_checker(i) for i in txt.lower().split()]))"
   ]
  },
  {
   "cell_type": "code",
   "execution_count": 0,
   "metadata": {
    "colab": {},
    "colab_type": "code",
    "id": "l3M7y9cXvLsk"
   },
   "outputs": [],
   "source": [
    "perm.reset_index(drop = True,inplace = True)"
   ]
  },
  {
   "cell_type": "code",
   "execution_count": 0,
   "metadata": {
    "colab": {},
    "colab_type": "code",
    "id": "gkHf0n5Uvcf2"
   },
   "outputs": [],
   "source": [
    "import string\n",
    "def remove_punctuation(value):\n",
    "    result = \"\"\n",
    "    for c in value:\n",
    "        if c not in string.punctuation:\n",
    "            result += c\n",
    "        else:\n",
    "            result +=\" \"\n",
    "    return result\n",
    "perm[\"FOREIGN_WORKER_INFO_MAJOR\"] = perm[\"FOREIGN_WORKER_INFO_MAJOR\"].apply(lambda x : remove_punctuation(x))"
   ]
  },
  {
   "cell_type": "code",
   "execution_count": 0,
   "metadata": {
    "colab": {},
    "colab_type": "code",
    "id": "vS9gAhD8z-W4"
   },
   "outputs": [],
   "source": [
    "perm[\"FOREIGN_WORKER_INFO_MAJOR\"].value_counts()"
   ]
  },
  {
   "cell_type": "code",
   "execution_count": 0,
   "metadata": {
    "colab": {},
    "colab_type": "code",
    "id": "iTD7yY4a0ll_"
   },
   "outputs": [],
   "source": [
    "word_vectors_1 = api.load(\"glove-wiki-gigaword-100\")"
   ]
  },
  {
   "cell_type": "code",
   "execution_count": 0,
   "metadata": {
    "colab": {},
    "colab_type": "code",
    "id": "NeIgpkXY0Udn"
   },
   "outputs": [],
   "source": [
    "def grouping(position):\n",
    "  # print(position)\n",
    "    z = np.zeros(100)\n",
    "    x = position.split()\n",
    "    count = 0\n",
    "    for i in x:\n",
    "        if i in word_vectors_1:\n",
    "            z += word_vectors_1[i]\n",
    "            count+=1\n",
    "    if count>0:\n",
    "        return z/count\n",
    "    else:\n",
    "        return z\n",
    "perm[\"word_vectors\"] = perm[\"FOREIGN_WORKER_INFO_MAJOR\"].apply(lambda text : grouping(text))"
   ]
  },
  {
   "cell_type": "code",
   "execution_count": 0,
   "metadata": {
    "colab": {},
    "colab_type": "code",
    "id": "adI_IYqg1B8G"
   },
   "outputs": [],
   "source": [
    "word_vectors = perm[[\"word_vectors\"]].values\n",
    "temp = np.vstack(word_vectors.tolist())\n",
    "temp.shape"
   ]
  },
  {
   "cell_type": "markdown",
   "metadata": {},
   "source": [
    "Using k-means clustering I have grouped them into 20 categories and considered the important categories."
   ]
  },
  {
   "cell_type": "code",
   "execution_count": 0,
   "metadata": {
    "colab": {},
    "colab_type": "code",
    "id": "I-U9y_qU1cwk"
   },
   "outputs": [],
   "source": [
    "kmeans = KMeans(n_clusters=20, random_state=0).fit(temp)\n",
    "y = kmeans.predict(temp)"
   ]
  },
  {
   "cell_type": "code",
   "execution_count": 0,
   "metadata": {
    "colab": {},
    "colab_type": "code",
    "id": "rodx_4iPoece"
   },
   "outputs": [],
   "source": [
    "perm.shape"
   ]
  },
  {
   "cell_type": "code",
   "execution_count": 0,
   "metadata": {
    "colab": {},
    "colab_type": "code",
    "id": "EWD152Vc1w3-"
   },
   "outputs": [],
   "source": [
    "perm[\"cluster\"] = y\n",
    "perm[perm[\"cluster\"] == 15]"
   ]
  },
  {
   "cell_type": "code",
   "execution_count": 0,
   "metadata": {
    "colab": {},
    "colab_type": "code",
    "id": "Mlf0iCLVKRbx"
   },
   "outputs": [],
   "source": [
    "# Assigning names to each category based on their roles after clustering.\n",
    "perm.loc[(perm.cluster == 1),\"cluster\"] = \"Business Administration\"\n",
    "perm.loc[(perm.cluster == 5),\"cluster\"] = \"Information Technology\"\n",
    "perm.loc[(perm.cluster == 8),\"cluster\"] = \"Information Technology\"\n",
    "perm.loc[(perm.cluster == 2),\"cluster\"] = \"Electrical Engineering\"\n",
    "perm.loc[(perm.cluster == 3),\"cluster\"] = \"Electrical,Electronics and Computer Engineering\"\n",
    "perm.loc[(perm.cluster == 7),\"cluster\"] = \"Computer Science\"\n",
    "perm.loc[(perm.cluster == 10),\"cluster\"] = \"Computer Engineering\"\n",
    "perm.loc[(perm.cluster == 14),\"cluster\"] = \"Computer Science\"\n",
    "perm.loc[(perm.cluster == 17),\"cluster\"] = \"Electronics Engineering\"\n",
    "perm"
   ]
  },
  {
   "cell_type": "code",
   "execution_count": 0,
   "metadata": {
    "colab": {},
    "colab_type": "code",
    "id": "uapOWUzCle3y"
   },
   "outputs": [],
   "source": [
    "plot = perm['cluster'].isin(['Information Technology','Electrical,Electronics and Computer Engineering','Business Administration',\n",
    "                               'Electrical Engineering','Computer Science','Electronics Engineering','Computer Engineering'])\n",
    "plot_1 = perm[plot]\n",
    "plot_1.reset_index(drop = True,inplace = True)"
   ]
  },
  {
   "cell_type": "code",
   "execution_count": 0,
   "metadata": {
    "colab": {},
    "colab_type": "code",
    "id": "xhQrxq_chbxu"
   },
   "outputs": [],
   "source": [
    "x = plot_1[\"FOREIGN_WORKER_INFO_EDUCATION\"].value_counts()\n",
    "x[\"Master's\"]"
   ]
  },
  {
   "cell_type": "code",
   "execution_count": 0,
   "metadata": {
    "colab": {},
    "colab_type": "code",
    "id": "ssAlpXKule36"
   },
   "outputs": [],
   "source": [
    "bar_plot = plot_1.groupby('cluster')['FOREIGN_WORKER_INFO_EDUCATION'].value_counts()\n",
    "bar_plot=bar_plot.reset_index(name = 'count')\n",
    "bar_plot"
   ]
  },
  {
   "cell_type": "code",
   "execution_count": 0,
   "metadata": {
    "colab": {},
    "colab_type": "code",
    "id": "c1-m0qpyle38"
   },
   "outputs": [],
   "source": [
    "# Calculating percenage of different levels of education in each categoty how much they are contributing.\n",
    "for i in bar_plot.index:\n",
    "    if(bar_plot['FOREIGN_WORKER_INFO_EDUCATION'][i] == \"Master's\"):\n",
    "        bar_plot['count'][i] = bar_plot['count'][i]*100/x[\"Master's\"]\n",
    "        \n",
    "    elif(bar_plot['FOREIGN_WORKER_INFO_EDUCATION'][i] == \"Bachelor's\"):\n",
    "        bar_plot['count'][i] = bar_plot['count'][i]*100/x[\"Bachelor's\"]\n",
    "        \n",
    "    elif(bar_plot['FOREIGN_WORKER_INFO_EDUCATION'][i] == \"Doctorate\"):\n",
    "        bar_plot['count'][i] = bar_plot['count'][i]*100/x[\"Doctorate\"]\n",
    "    \n",
    "    elif(bar_plot['FOREIGN_WORKER_INFO_EDUCATION'][i] == \"Other\"):\n",
    "        bar_plot['count'][i] = bar_plot['count'][i]*100/x[\"Other\"]\n",
    "    \n",
    "    elif(bar_plot['FOREIGN_WORKER_INFO_EDUCATION'][i] == \"Associate's\"):\n",
    "        bar_plot['count'][i] = bar_plot['count'][i]*100/x[\"Associate's\"]\n",
    "    \n",
    "    "
   ]
  },
  {
   "cell_type": "code",
   "execution_count": 0,
   "metadata": {
    "colab": {},
    "colab_type": "code",
    "id": "hfygmSKnle3-"
   },
   "outputs": [],
   "source": [
    "# Assigning alias names as they are overlapping in the bar plot\n",
    "bar_plot.loc[(bar_plot.cluster == 'Business Administration'),'cluster'] = 'BA'\n",
    "bar_plot.loc[(bar_plot.cluster == 'Computer Science'),'cluster'] = 'CS'\n",
    "bar_plot.loc[(bar_plot.cluster == 'Computer Engineering'),'cluster'] = 'CE'\n",
    "bar_plot.loc[(bar_plot.cluster == 'Information Technology'),'cluster'] = 'IT'\n",
    "bar_plot.loc[(bar_plot.cluster == 'Electrical,Electronics and Computer Engineering'),'cluster'] = 'EEC'\n",
    "bar_plot.loc[(bar_plot.cluster == 'Electrical Engineering'),'cluster'] = 'EE1'\n",
    "bar_plot.loc[(bar_plot.cluster == 'Electronics Engineering'),'cluster'] = 'EE2'\n",
    "bar_plot"
   ]
  },
  {
   "cell_type": "code",
   "execution_count": 0,
   "metadata": {
    "colab": {},
    "colab_type": "code",
    "id": "YIh5tKV0le4A"
   },
   "outputs": [],
   "source": [
    "sns.set(rc={'figure.figsize':(12.0,8.0)})\n",
    "bar_plot_1 = sns.barplot(x = 'cluster', y = 'count', hue = 'FOREIGN_WORKER_INFO_EDUCATION', palette = \"cubehelix_r\", data = bar_plot)\n",
    "leg = bar_plot_1.legend(title = 'Level of Education',loc = (0.7,0.756))\n",
    "sns.despine(top=True, right=True)\n",
    "plt.xlabel('Major Degree')\n",
    "plt.ylabel('Percentage of levels of education(%)')\n",
    "# plt.yscale(\"log\")\n",
    "plt.title(\"Comparision of levels of education\")\n",
    "plt.savefig('Education.png')\n",
    "plt.show()"
   ]
  }
 ],
 "metadata": {
  "colab": {
   "collapsed_sections": [],
   "name": "H1b_perm",
   "provenance": [],
   "toc_visible": true
  },
  "kernelspec": {
   "display_name": "Python 3",
   "language": "python",
   "name": "python3"
  },
  "language_info": {
   "codemirror_mode": {
    "name": "ipython",
    "version": 3
   },
   "file_extension": ".py",
   "mimetype": "text/x-python",
   "name": "python",
   "nbconvert_exporter": "python",
   "pygments_lexer": "ipython3",
   "version": "3.7.4"
  }
 },
 "nbformat": 4,
 "nbformat_minor": 1
}
